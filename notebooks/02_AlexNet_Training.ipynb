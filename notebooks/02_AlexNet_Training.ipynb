{
 "cells": [
  {
   "cell_type": "markdown",
   "id": "a979eaec",
   "metadata": {},
   "source": [
    "# AlexNet - Entrenamiento y Evaluación\n",
    "\n",
    "Este notebook implementa el entrenamiento de AlexNet base y sus variantes.\n",
    "\n",
    "## Configuración de Entrenamiento\n",
    "- **Épocas**: 60\n",
    "- **Batch size**: 64  \n",
    "- **Optimizador**: SGD (momentum=0.9, weight_decay=5e-4)\n",
    "- **Learning rate**: 0.001\n",
    "- **Criterio**: CrossEntropyLoss\n",
    "- **Semilla fija**: 42 para reproducibilidad\n",
    "\n",
    "## Variantes a Evaluar\n",
    "- **AlexNet Base**: Arquitectura original adaptada\n",
    "- **AlexNet + BatchNorm**: Con normalización por lotes\n",
    "- **AlexNet Reduced**: Con menos capas fully connected"
   ]
  },
  {
   "cell_type": "code",
   "execution_count": null,
   "id": "cede6341",
   "metadata": {},
   "outputs": [],
   "source": [
    "import sys\n",
    "sys.path.append('../')\n",
    "\n",
    "import torch\n",
    "import torch.nn as nn\n",
    "import os\n",
    "import numpy as np\n",
    "import random\n",
    "import pandas as pd\n",
    "import pickle\n",
    "\n",
    "from models.alexnet import AlexNet\n",
    "from models.alexnet_variants import AlexNet_BN, AlexNet_Reduced\n",
    "from utils.dataset import create_data_loaders, get_dataset_info\n",
    "from utils.training import train_model, test_model, count_parameters\n",
    "from utils.visualization import plot_training_curves, plot_confusion_matrix\n",
    "\n",
    "# Configurar semillas\n",
    "torch.manual_seed(42)\n",
    "np.random.seed(42)\n",
    "random.seed(42)\n",
    "if torch.cuda.is_available():\n",
    "    torch.cuda.manual_seed(42)\n",
    "\n",
    "device = torch.device('cuda' if torch.cuda.is_available() else 'cpu')\n",
    "print(f\"Dispositivo: {device}\")\n",
    "\n",
    "# Cargar datos (reutilizar configuración)\n",
    "data_dir = '../data'\n",
    "batch_size = 64\n",
    "input_size = 224\n",
    "\n",
    "train_loader, val_loader, test_loader, class_names = create_data_loaders(\n",
    "    data_dir, batch_size=batch_size, input_size=input_size, seed=42\n",
    ")\n",
    "\n",
    "nChannels = 3\n",
    "nClasses = len(class_names)\n",
    "print(f\"Canales: {nChannels}, Clases: {nClasses}\")"
   ]
  },
  {
   "cell_type": "markdown",
   "id": "9904b902",
   "metadata": {},
   "source": [
    "## 1. AlexNet Base"
   ]
  },
  {
   "cell_type": "code",
   "execution_count": null,
   "id": "7284cb7e",
   "metadata": {},
   "outputs": [],
   "source": [
    "alexnet_base = AlexNet(nChannels, nClasses).to(device)\n",
    "params_base = count_parameters(alexnet_base)\n",
    "print(f\"AlexNet Base - Parámetros: {params_base:,} ({params_base/1e6:.2f}M)\")\n",
    "\n",
    "save_path = '../checkpoints/alexnet_base_best.pth'\n",
    "print(\"\\nEntrenando AlexNet Base...\")\n",
    "history_base, avg_time_base = train_model(\n",
    "    alexnet_base, train_loader, val_loader, \n",
    "    epochs=60, optimizer_name='SGD', lr=0.001, \n",
    "    device=device, save_path=save_path\n",
    ")\n",
    "\n",
    "alexnet_base.load_state_dict(torch.load(save_path))\n",
    "test_acc_base, test_f1_base, conf_matrix_base, _ = test_model(\n",
    "    alexnet_base, test_loader, device, class_names\n",
    ")\n",
    "\n",
    "print(f\"AlexNet Base - Test Acc: {test_acc_base:.2f}%, Test F1: {test_f1_base:.2f}%\")"
   ]
  },
  {
   "cell_type": "markdown",
   "id": "4ee779e2",
   "metadata": {},
   "source": [
    "## 2. AlexNet + BatchNorm"
   ]
  },
  {
   "cell_type": "code",
   "execution_count": null,
   "id": "c980db60",
   "metadata": {},
   "outputs": [],
   "source": [
    "alexnet_bn = AlexNet_BN(nChannels, nClasses).to(device)\n",
    "params_bn = count_parameters(alexnet_bn)\n",
    "print(f\"AlexNet + BN - Parámetros: {params_bn:,} ({params_bn/1e6:.2f}M)\")\n",
    "\n",
    "save_path_bn = '../checkpoints/alexnet_bn_best.pth'\n",
    "print(\"\\nEntrenando AlexNet + BatchNorm...\")\n",
    "history_bn, avg_time_bn = train_model(\n",
    "    alexnet_bn, train_loader, val_loader, \n",
    "    epochs=60, optimizer_name='SGD', lr=0.001, \n",
    "    device=device, save_path=save_path_bn\n",
    ")\n",
    "\n",
    "alexnet_bn.load_state_dict(torch.load(save_path_bn))\n",
    "test_acc_bn, test_f1_bn, conf_matrix_bn, _ = test_model(\n",
    "    alexnet_bn, test_loader, device, class_names\n",
    ")\n",
    "\n",
    "print(f\"AlexNet + BN - Test Acc: {test_acc_bn:.2f}%, Test F1: {test_f1_bn:.2f}%\")\n",
    "print(f\"Mejora vs Base - Acc: {test_acc_bn - test_acc_base:.2f}%, F1: {test_f1_bn - test_f1_base:.2f}%\")"
   ]
  },
  {
   "cell_type": "markdown",
   "id": "f50d83ca",
   "metadata": {},
   "source": [
    "## 3. AlexNet Reduced"
   ]
  },
  {
   "cell_type": "code",
   "execution_count": null,
   "id": "18afd154",
   "metadata": {},
   "outputs": [],
   "source": [
    "alexnet_reduced = AlexNet_Reduced(nChannels, nClasses).to(device)\n",
    "params_reduced = count_parameters(alexnet_reduced)\n",
    "print(f\"AlexNet Reduced - Parámetros: {params_reduced:,} ({params_reduced/1e6:.2f}M)\")\n",
    "\n",
    "save_path_reduced = '../checkpoints/alexnet_reduced_best.pth'\n",
    "print(\"\\nEntrenando AlexNet Reduced...\")\n",
    "history_reduced, avg_time_reduced = train_model(\n",
    "    alexnet_reduced, train_loader, val_loader, \n",
    "    epochs=60, optimizer_name='SGD', lr=0.001, \n",
    "    device=device, save_path=save_path_reduced\n",
    ")\n",
    "\n",
    "alexnet_reduced.load_state_dict(torch.load(save_path_reduced))\n",
    "test_acc_reduced, test_f1_reduced, conf_matrix_reduced, _ = test_model(\n",
    "    alexnet_reduced, test_loader, device, class_names\n",
    ")\n",
    "\n",
    "print(f\"AlexNet Reduced - Test Acc: {test_acc_reduced:.2f}%, Test F1: {test_f1_reduced:.2f}%\")\n",
    "print(f\"Mejora vs Base - Acc: {test_acc_reduced - test_acc_base:.2f}%, F1: {test_f1_reduced - test_f1_base:.2f}%\")"
   ]
  },
  {
   "cell_type": "markdown",
   "id": "5f76c302",
   "metadata": {},
   "source": [
    "## 4. Visualización y Resultados"
   ]
  },
  {
   "cell_type": "code",
   "execution_count": null,
   "id": "8b0a8993",
   "metadata": {},
   "outputs": [],
   "source": [
    "# Visualizar curvas\n",
    "plot_training_curves(history_base, \"AlexNet Base\", '../results/alexnet_base_curves.png')\n",
    "plot_training_curves(history_bn, \"AlexNet + BatchNorm\", '../results/alexnet_bn_curves.png')\n",
    "plot_training_curves(history_reduced, \"AlexNet Reduced\", '../results/alexnet_reduced_curves.png')\n",
    "\n",
    "# Matrices de confusión\n",
    "plot_confusion_matrix(conf_matrix_base, class_names, \"AlexNet Base\", '../results/alexnet_base_confusion.png')\n",
    "plot_confusion_matrix(conf_matrix_bn, class_names, \"AlexNet + BN\", '../results/alexnet_bn_confusion.png')\n",
    "plot_confusion_matrix(conf_matrix_reduced, class_names, \"AlexNet Reduced\", '../results/alexnet_reduced_confusion.png')\n",
    "\n",
    "# Resultados\n",
    "results_alexnet = {\n",
    "    'Modelo': ['AlexNet Base', 'AlexNet + BN', 'AlexNet Reduced'],\n",
    "    'Params (M)': [params_base/1e6, params_bn/1e6, params_reduced/1e6],\n",
    "    't/epoca (s)': [avg_time_base, avg_time_bn, avg_time_reduced],\n",
    "    'Val Acc': [max(history_base['val_acc']), max(history_bn['val_acc']), max(history_reduced['val_acc'])],\n",
    "    'Val F1': [max(history_base['val_f1']), max(history_bn['val_f1']), max(history_reduced['val_f1'])],\n",
    "    'Test Acc': [test_acc_base, test_acc_bn, test_acc_reduced],\n",
    "    'Test F1': [test_f1_base, test_f1_bn, test_f1_reduced]\n",
    "}\n",
    "\n",
    "df_alexnet = pd.DataFrame(results_alexnet)\n",
    "print(\"Resultados AlexNet y Variantes:\")\n",
    "print(df_alexnet.round(2))\n",
    "\n",
    "df_alexnet.to_csv('../results/alexnet_results.csv', index=False)\n",
    "\n",
    "with open('../results/alexnet_histories.pkl', 'wb') as f:\n",
    "    pickle.dump({\n",
    "        'base': history_base,\n",
    "        'bn': history_bn,\n",
    "        'reduced': history_reduced\n",
    "    }, f)"
   ]
  }
 ],
 "metadata": {
  "language_info": {
   "name": "python"
  }
 },
 "nbformat": 4,
 "nbformat_minor": 5
}
