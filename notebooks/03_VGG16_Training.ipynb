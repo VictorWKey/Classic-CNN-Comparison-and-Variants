{
 "cells": [
  {
   "cell_type": "code",
   "execution_count": null,
   "metadata": {},
   "outputs": [],
   "source": [
    "import os\n",
    "import torchvision\n",
    "import torchvision.transforms as transforms\n",
    "\n",
    "if not os.path.exists(\"data\"):\n",
    "    os.makedirs(\"data\")\n",
    "\n",
    "cifar10_train = torchvision.datasets.CIFAR10(\n",
    "    root=\"data\",\n",
    "    train=True,\n",
    "    download=True,\n",
    "    transform=transforms.ToTensor()\n",
    ")\n",
    "cifar10_test = torchvision.datasets.CIFAR10(\n",
    "    root=\"data\",\n",
    "    train=False,\n",
    "    download=True,\n",
    "    transform=transforms.ToTensor()\n",
    ")\n",
    "print(\"✅ CIFAR10 disponible en carpeta 'data/'\")"
   ]
  },
  {
   "cell_type": "markdown",
   "metadata": {},
   "source": [
    "# Entrenamiento con VGG16\n",
    "\n",
    "Este notebook entrena **VGG16** y sus variantes sobre el dataset CIFAR10."
   ]
  },
  {
   "cell_type": "code",
   "execution_count": null,
   "metadata": {},
   "outputs": [],
   "source": [
    "import torch\n",
    "import torch.nn as nn\n",
    "from utils import create_data_loaders, train_model, test_model, count_parameters\n",
    "from models import VGG16, VGG16_BN, VGG16_GAP\n",
    "from config import TRAINING_CONFIG, DATA_CONFIG, PATHS\n",
    "import os"
   ]
  },
  {
   "cell_type": "code",
   "execution_count": null,
   "metadata": {},
   "outputs": [],
   "source": [
    "# Preparar los dataloaders\n",
    "train_loader, val_loader, test_loader, class_names = create_data_loaders(\n",
    "    DATA_CONFIG['data_dir'],\n",
    "    batch_size=TRAINING_CONFIG['batch_size'],\n",
    "    input_size=DATA_CONFIG['input_size'],\n",
    "    train_split=DATA_CONFIG['train_split'],\n",
    "    val_split=DATA_CONFIG['val_split'],\n",
    "    seed=DATA_CONFIG['seed']\n",
    ")"
   ]
  },
  {
   "cell_type": "code",
   "execution_count": null,
   "metadata": {},
   "outputs": [],
   "source": [
    "# Entrenar modelo base (VGG16)\n",
    "device = 'cuda' if torch.cuda.is_available() else 'cpu'\n",
    "model = VGG16(nChannels=3, nClasses=len(class_names)).to(device)\n",
    "history, avg_time = train_model(\n",
    "    model, train_loader, val_loader,\n",
    "    epochs=TRAINING_CONFIG['epochs'],\n",
    "    optimizer_name=TRAINING_CONFIG['optimizer'],\n",
    "    lr=TRAINING_CONFIG['learning_rate'],\n",
    "    device=device,\n",
    "    save_path=os.path.join(PATHS['checkpoints'], 'vgg16.pth')\n",
    ")\n",
    "print(f\"Número de parámetros entrenables: {count_parameters(model)/1e6:.2f}M\")"
   ]
  },
  {
   "cell_type": "code",
   "execution_count": null,
   "metadata": {},
   "outputs": [],
   "source": [
    "# Evaluar modelo en test set\n",
    "test_acc, test_f1, conf_matrix, report = test_model(model, test_loader, device, class_names)\n",
    "print(\"\\nResultados en Test:\")\n",
    "print(report)"
   ]
  }
 ],
 "metadata": {
  "kernelspec": {
   "display_name": "Python 3",
   "language": "python",
   "name": "python3"
  },
  "language_info": {
   "name": "python",
   "version": "3.10"
  }
 },
 "nbformat": 4,
 "nbformat_minor": 5
}
