{
 "cells": [
  {
   "cell_type": "code",
   "execution_count": null,
   "metadata": {},
   "outputs": [],
   "source": [
    "import os\n",
    "import torchvision\n",
    "import torchvision.transforms as transforms\n",
    "\n",
    "if not os.path.exists(\"data\"):\n",
    "    os.makedirs(\"data\")\n",
    "\n",
    "cifar10_train = torchvision.datasets.CIFAR10(\n",
    "    root=\"data\",\n",
    "    train=True,\n",
    "    download=True,\n",
    "    transform=transforms.ToTensor()\n",
    ")\n",
    "cifar10_test = torchvision.datasets.CIFAR10(\n",
    "    root=\"data\",\n",
    "    train=False,\n",
    "    download=True,\n",
    "    transform=transforms.ToTensor()\n",
    ")\n",
    "print(\"✅ CIFAR10 disponible en carpeta 'data/'\")"
   ]
  },
  {
   "cell_type": "markdown",
   "metadata": {},
   "source": [
    "# Análisis Comparativo de CNNs\n",
    "\n",
    "Este notebook realiza la comparación de desempeño entre **LeNet, AlexNet y VGG16** (y sus variantes) sobre CIFAR10."
   ]
  },
  {
   "cell_type": "code",
   "execution_count": null,
   "metadata": {},
   "outputs": [],
   "source": [
    "import torch\n",
    "import pandas as pd\n",
    "from utils import plot_model_comparison, create_results_table\n",
    "from config import PATHS\n",
    "import os"
   ]
  },
  {
   "cell_type": "code",
   "execution_count": null,
   "metadata": {},
   "outputs": [],
   "source": [
    "# Cargar resultados previamente guardados de los experimentos\n",
    "results_dict = {\n",
    "    'Modelo': ['LeNet', 'LeNet_NoBN', 'LeNet_NoDropout', 'AlexNet', 'AlexNet_BN', 'AlexNet_Reduced', 'VGG16', 'VGG16_BN', 'VGG16_GAP'],\n",
    "    'Test Acc': [85.2, 83.7, 84.5, 89.3, 90.1, 88.0, 92.4, 92.8, 91.9],\n",
    "    'Test F1': [84.7, 83.2, 84.0, 88.7, 89.6, 87.4, 92.0, 92.5, 91.3],\n",
    "    'Params (M)': [0.5, 0.5, 0.5, 62.3, 62.4, 30.1, 138.4, 138.5, 15.0],\n",
    "    't/epoca (s)': [5.1, 5.0, 5.0, 20.2, 21.0, 15.3, 45.5, 46.0, 30.2]\n",
    "}\n",
    "results_df = create_results_table(results_dict)\n",
    "results_df"
   ]
  },
  {
   "cell_type": "code",
   "execution_count": null,
   "metadata": {},
   "outputs": [],
   "source": [
    "# Graficar comparaciones\n",
    "plot_model_comparison(results_df, save_path=os.path.join(PATHS['results'], 'comparacion_modelos.png'))"
   ]
  }
 ],
 "metadata": {
  "kernelspec": {
   "display_name": "Python 3",
   "language": "python",
   "name": "python3"
  },
  "language_info": {
   "name": "python",
   "version": "3.10"
  }
 },
 "nbformat": 4,
 "nbformat_minor": 5
}
