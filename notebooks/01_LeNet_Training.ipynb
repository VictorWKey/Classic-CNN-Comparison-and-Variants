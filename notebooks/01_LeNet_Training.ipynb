{
 "cells": [
  {
   "cell_type": "markdown",
   "id": "cc671098",
   "metadata": {},
   "source": [
    "# LeNet - Entrenamiento y Evaluación\n",
    "\n",
    "Este notebook implementa el entrenamiento de LeNet base y sus variantes siguiendo la metodología IMRA descrita en el README.\n",
    "\n",
    "## Configuración de Entrenamiento\n",
    "- **Épocas**: 60\n",
    "- **Batch size**: 64  \n",
    "- **Optimizador**: SGD (momentum=0.9, weight_decay=5e-4)\n",
    "- **Learning rate**: 0.001\n",
    "- **Criterio**: CrossEntropyLoss\n",
    "- **Semilla fija**: 42 para reproducibilidad"
   ]
  },
  {
   "cell_type": "code",
   "execution_count": null,
   "id": "1bddff7d",
   "metadata": {},
   "outputs": [],
   "source": [
    "import sys\n",
    "sys.path.append('../')\n",
    "\n",
    "import torch\n",
    "import torch.nn as nn\n",
    "import os\n",
    "import numpy as np\n",
    "import random\n",
    "\n",
    "from models.lenet import CustomLenet\n",
    "from models.lenet_variants import CustomLenet_NoBN, CustomLenet_NoDropout\n",
    "from utils.dataset import create_data_loaders, get_dataset_info\n",
    "from utils.training import train_model, test_model, count_parameters\n",
    "from utils.visualization import plot_training_curves, plot_confusion_matrix\n",
    "\n",
    "# Configurar semillas para reproducibilidad\n",
    "torch.manual_seed(42)\n",
    "np.random.seed(42)\n",
    "random.seed(42)\n",
    "if torch.cuda.is_available():\n",
    "    torch.cuda.manual_seed(42)\n",
    "\n",
    "device = torch.device('cuda' if torch.cuda.is_available() else 'cpu')\n",
    "print(f\"Dispositivo: {device}\")"
   ]
  },
  {
   "cell_type": "markdown",
   "id": "15afd108",
   "metadata": {},
   "source": [
    "## 1. Carga de Datos"
   ]
  },
  {
   "cell_type": "code",
   "execution_count": null,
   "id": "e2b42252",
   "metadata": {},
   "outputs": [],
   "source": [
    "# Configuración de datos\n",
    "data_dir = '../data'\n",
    "batch_size = 64\n",
    "input_size = 224\n",
    "\n",
    "# Obtener información del dataset\n",
    "dataset_info = get_dataset_info(data_dir)\n",
    "print(\"Información del Dataset:\")\n",
    "print(f\"Número de clases: {dataset_info['num_classes']}\")\n",
    "print(f\"Clases: {dataset_info['class_names']}\")\n",
    "print(f\"Total de muestras: {dataset_info['total_samples']}\")\n",
    "print(f\"Resolución de muestra: {dataset_info['sample_resolution']}\")\n",
    "print(\"\\nMuestras por clase:\")\n",
    "for class_name, count in dataset_info['samples_per_class'].items():\n",
    "    print(f\"  {class_name}: {count}\")\n",
    "\n",
    "# Crear data loaders\n",
    "train_loader, val_loader, test_loader, class_names = create_data_loaders(\n",
    "    data_dir, batch_size=batch_size, input_size=input_size, seed=42\n",
    ")\n",
    "\n",
    "nChannels = 3\n",
    "nClasses = len(class_names)\n",
    "print(f\"\\nCanales de entrada: {nChannels}\")\n",
    "print(f\"Número de clases: {nClasses}\")"
   ]
  },
  {
   "cell_type": "markdown",
   "id": "5b757a4f",
   "metadata": {},
   "source": [
    "## 2. LeNet Base - Entrenamiento"
   ]
  },
  {
   "cell_type": "code",
   "execution_count": null,
   "id": "0bcf3b41",
   "metadata": {},
   "outputs": [],
   "source": [
    "# Crear modelo CustomLenet base (con BN y Dropout)\n",
    "lenet_base = CustomLenet(nChannels, nClasses).to(device)\n",
    "params_base = count_parameters(lenet_base)\n",
    "print(f\"CustomLenet Base - Parámetros: {params_base:,} ({params_base/1e6:.2f}M)\")\n",
    "\n",
    "# Entrenar modelo base\n",
    "save_path = '../checkpoints/customlenet_base_best.pth'\n",
    "os.makedirs('../checkpoints', exist_ok=True)\n",
    "\n",
    "print(\"\\nEntrenando CustomLenet Base...\")\n",
    "history_base, avg_time_base = train_model(\n",
    "    lenet_base, train_loader, val_loader, \n",
    "    epochs=60, optimizer_name='SGD', lr=0.001, \n",
    "    device=device, save_path=save_path\n",
    ")\n",
    "\n",
    "print(f\"Tiempo promedio por época: {avg_time_base:.2f}s\")"
   ]
  },
  {
   "cell_type": "code",
   "execution_count": null,
   "id": "e19364e1",
   "metadata": {},
   "outputs": [],
   "source": [
    "# Evaluar modelo base en test\n",
    "lenet_base.load_state_dict(torch.load(save_path))\n",
    "test_acc_base, test_f1_base, conf_matrix_base, report_base = test_model(\n",
    "    lenet_base, test_loader, device, class_names\n",
    ")\n",
    "\n",
    "print(f\"CustomLenet Base - Test Accuracy: {test_acc_base:.2f}%\")\n",
    "print(f\"CustomLenet Base - Test F1: {test_f1_base:.2f}%\")\n",
    "print(\"\\nReporte de clasificación:\")\n",
    "print(report_base)"
   ]
  },
  {
   "cell_type": "markdown",
   "id": "131ceed4",
   "metadata": {},
   "source": [
    "## 3. CustomLenet sin BatchNorm - Variante 1"
   ]
  },
  {
   "cell_type": "code",
   "execution_count": null,
   "id": "e6168cce",
   "metadata": {},
   "outputs": [],
   "source": [
    "# Crear modelo CustomLenet sin BatchNorm\n",
    "lenet_nobn = CustomLenet_NoBN(nChannels, nClasses).to(device)\n",
    "params_nobn = count_parameters(lenet_nobn)\n",
    "print(f\"CustomLenet sin BN - Parámetros: {params_nobn:,} ({params_nobn/1e6:.2f}M)\")\n",
    "\n",
    "# Entrenar modelo sin BatchNorm\n",
    "save_path_nobn = '../checkpoints/customlenet_nobn_best.pth'\n",
    "\n",
    "print(\"\\nEntrenando CustomLenet sin BatchNorm...\")\n",
    "history_nobn, avg_time_nobn = train_model(\n",
    "    lenet_nobn, train_loader, val_loader, \n",
    "    epochs=60, optimizer_name='SGD', lr=0.001, \n",
    "    device=device, save_path=save_path_nobn\n",
    ")\n",
    "\n",
    "print(f\"Tiempo promedio por época: {avg_time_nobn:.2f}s\")"
   ]
  },
  {
   "cell_type": "code",
   "execution_count": null,
   "id": "b0ba5bd3",
   "metadata": {},
   "outputs": [],
   "source": [
    "# Evaluar modelo sin BatchNorm en test\n",
    "lenet_nobn.load_state_dict(torch.load(save_path_nobn))\n",
    "test_acc_nobn, test_f1_nobn, conf_matrix_nobn, report_nobn = test_model(\n",
    "    lenet_nobn, test_loader, device, class_names\n",
    ")\n",
    "\n",
    "print(f\"CustomLenet sin BN - Test Accuracy: {test_acc_nobn:.2f}%\")\n",
    "print(f\"CustomLenet sin BN - Test F1: {test_f1_nobn:.2f}%\")\n",
    "print(f\"Diferencia en Accuracy vs Base: {test_acc_nobn - test_acc_base:.2f}%\")\n",
    "print(f\"Diferencia en F1 vs Base: {test_f1_nobn - test_f1_base:.2f}%\")"
   ]
  },
  {
   "cell_type": "markdown",
   "id": "b0fa7fd8",
   "metadata": {},
   "source": [
    "## 4. CustomLenet sin Dropout - Variante 2"
   ]
  },
  {
   "cell_type": "code",
   "execution_count": null,
   "id": "4ab6240d",
   "metadata": {},
   "outputs": [],
   "source": [
    "# Crear modelo CustomLenet sin Dropout\n",
    "lenet_nodropout = CustomLenet_NoDropout(nChannels, nClasses).to(device)\n",
    "params_nodropout = count_parameters(lenet_nodropout)\n",
    "print(f\"CustomLenet sin Dropout - Parámetros: {params_nodropout:,} ({params_nodropout/1e6:.2f}M)\")\n",
    "\n",
    "# Entrenar modelo sin Dropout\n",
    "save_path_nodropout = '../checkpoints/customlenet_nodropout_best.pth'\n",
    "\n",
    "print(\"\\nEntrenando CustomLenet sin Dropout...\")\n",
    "history_nodropout, avg_time_nodropout = train_model(\n",
    "    lenet_nodropout, train_loader, val_loader, \n",
    "    epochs=60, optimizer_name='SGD', lr=0.001, \n",
    "    device=device, save_path=save_path_nodropout\n",
    ")\n",
    "\n",
    "print(f\"Tiempo promedio por época: {avg_time_nodropout:.2f}s\")"
   ]
  },
  {
   "cell_type": "code",
   "execution_count": null,
   "id": "8a35bcf6",
   "metadata": {},
   "outputs": [],
   "source": [
    "# Evaluar modelo sin Dropout en test\n",
    "lenet_nodropout.load_state_dict(torch.load(save_path_nodropout))\n",
    "test_acc_nodropout, test_f1_nodropout, conf_matrix_nodropout, report_nodropout = test_model(\n",
    "    lenet_nodropout, test_loader, device, class_names\n",
    ")\n",
    "\n",
    "print(f\"CustomLenet sin Dropout - Test Accuracy: {test_acc_nodropout:.2f}%\")\n",
    "print(f\"CustomLenet sin Dropout - Test F1: {test_f1_nodropout:.2f}%\")\n",
    "print(f\"Diferencia en Accuracy vs Base: {test_acc_nodropout - test_acc_base:.2f}%\")\n",
    "print(f\"Diferencia en F1 vs Base: {test_f1_nodropout - test_f1_base:.2f}%\")"
   ]
  },
  {
   "cell_type": "markdown",
   "id": "f75ed39a",
   "metadata": {},
   "source": [
    "## 5. Visualización de Resultados"
   ]
  },
  {
   "cell_type": "code",
   "execution_count": null,
   "id": "d38d0b02",
   "metadata": {},
   "outputs": [],
   "source": [
    "# Crear directorio de resultados\n",
    "os.makedirs('../results', exist_ok=True)\n",
    "\n",
    "# Visualizar curvas de entrenamiento para cada modelo\n",
    "plot_training_curves(history_base, \"CustomLenet Base\", '../results/customlenet_base_curves.png')\n",
    "plot_training_curves(history_nobn, \"CustomLenet sin BN\", '../results/customlenet_nobn_curves.png')\n",
    "plot_training_curves(history_nodropout, \"CustomLenet sin Dropout\", '../results/customlenet_nodropout_curves.png')"
   ]
  },
  {
   "cell_type": "code",
   "execution_count": null,
   "id": "aeeb2766",
   "metadata": {},
   "outputs": [],
   "source": [
    "# Matrices de confusión\n",
    "plot_confusion_matrix(conf_matrix_base, class_names, \"CustomLenet Base\", '../results/customlenet_base_confusion.png')\n",
    "plot_confusion_matrix(conf_matrix_nobn, class_names, \"CustomLenet sin BN\", '../results/customlenet_nobn_confusion.png')\n",
    "plot_confusion_matrix(conf_matrix_nodropout, class_names, \"CustomLenet sin Dropout\", '../results/customlenet_nodropout_confusion.png')"
   ]
  },
  {
   "cell_type": "code",
   "execution_count": null,
   "id": "0ed17326",
   "metadata": {},
   "outputs": [],
   "source": [
    "# Resumen de resultados CustomLenet\n",
    "results_lenet = {\n",
    "    'Modelo': ['CustomLenet Base', 'CustomLenet sin BN', 'CustomLenet sin Dropout'],\n",
    "    'Params (M)': [params_base/1e6, params_nobn/1e6, params_nodropout/1e6],\n",
    "    't/epoca (s)': [avg_time_base, avg_time_nobn, avg_time_nodropout],\n",
    "    'Val Acc': [max(history_base['val_acc']), max(history_nobn['val_acc']), max(history_nodropout['val_acc'])],\n",
    "    'Val F1': [max(history_base['val_f1']), max(history_nobn['val_f1']), max(history_nodropout['val_f1'])],\n",
    "    'Test Acc': [test_acc_base, test_acc_nobn, test_acc_nodropout],\n",
    "    'Test F1': [test_f1_base, test_f1_nobn, test_f1_nodropout]\n",
    "}\n",
    "\n",
    "import pandas as pd\n",
    "df_lenet = pd.DataFrame(results_lenet)\n",
    "print(\"Resultados CustomLenet y Variantes:\")\n",
    "print(df_lenet.round(2))\n",
    "\n",
    "# Guardar resultados\n",
    "df_lenet.to_csv('../results/customlenet_results.csv', index=False)\n",
    "\n",
    "# Guardar historiales para análisis posterior\n",
    "import pickle\n",
    "with open('../results/customlenet_histories.pkl', 'wb') as f:\n",
    "    pickle.dump({\n",
    "        'base': history_base,\n",
    "        'nobn': history_nobn,\n",
    "        'nodropout': history_nodropout\n",
    "    }, f)"
   ]
  }
 ],
 "metadata": {
  "language_info": {
   "name": "python"
  }
 },
 "nbformat": 4,
 "nbformat_minor": 5
}
